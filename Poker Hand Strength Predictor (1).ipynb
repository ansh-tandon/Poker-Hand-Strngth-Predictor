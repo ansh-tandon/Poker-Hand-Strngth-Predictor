{
 "cells": [
  {
   "cell_type": "markdown",
   "metadata": {},
   "source": [
    "# POKER HAND STRENGTH PREDICTOR USING SVM"
   ]
  },
  {
   "cell_type": "code",
   "execution_count": 28,
   "metadata": {
    "collapsed": true
   },
   "outputs": [],
   "source": [
    "\n",
    "import matplotlib.pyplot as plt\n",
     "%matplotlib inline\n",
    "import seaborn as sns\n",
    "from sklearn.metrics import confusion_matrix\n",
    "import seaborn as sns\n",
    "\n",
    "def print_confusion_matrix(confusion_matrix,class_names,figsize=(5,3),fontsize=10):\n",
    "    df_cm = pd.DataFrame(confusion_matrix, index=class_names, columns=class_names, )\n",
    "    fig = plt.figure(figsize=figsize)\n",
    "    try:\n",
    "        heatmap = sns.heatmap(df_cm, annot=True, fmt=\"d\")\n",
    "    except ValueError:\n",
    "        raise ValueError(\"Confusion matrix values must be integers.\")\n",
    "    heatmap.yaxis.set_ticklabels(heatmap.yaxis.get_ticklabels(), rotation=0, ha='right', fontsize=fontsize)\n",
    "    heatmap.xaxis.set_ticklabels(heatmap.xaxis.get_ticklabels(), rotation=45, ha='right', fontsize=fontsize)\n",
    "    plt.ylabel('True label')\n",
    "    plt.xlabel('Predicted label')\n",
    "    plt.show()\n",
    "    return fig"
   ]
  },
  {
   "cell_type": "code",
   "execution_count": 29,
   "metadata": {
    "collapsed": true
   },
   "outputs": [],
   "source": [
    "#Loading the dataset\n",
    "from __future__ import print_function\n",
    "import os\n",
    "import pandas as pd\n",
    "\n",
    "#Training data\n",
    "dataPath = ['/home/ansh/Desktop/MachineLearning/Data']\n",
    "filePath = os.sep.join(dataPath + ['poker-hand-training-true.csv'])\n",
    "df = pd.read_csv(filePath, header = 0)\n",
    "\n",
    "#Testing data \n",
    "filePath = os.sep.join(dataPath + ['poker-hand-testing.csv'])\n",
    "df1 = pd.read_csv(filePath, header = 0)\n",
    "\n",
    "#Defining the dataframe columns\n",
    "df.columns = ['S1', 'C1', 'S2', 'C2', 'S3','C3','S4','C4','S5','C5','CLASS']\n",
    "df1.columns = ['S1', 'C1', 'S2', 'C2', 'S3','C3','S4','C4','S5','C5','CLASS']"
   ]
  },
  {
   "cell_type": "code",
   "execution_count": 30,
   "metadata": {},
   "outputs": [
    {
     "data": {
      "text/html": [
       "<div>\n",
       "<style scoped>\n",
       "    .dataframe tbody tr th:only-of-type {\n",
       "        vertical-align: middle;\n",
       "    }\n",
       "\n",
       "    .dataframe tbody tr th {\n",
       "        vertical-align: top;\n",
       "    }\n",
       "\n",
       "    .dataframe thead th {\n",
       "        text-align: right;\n",
       "    }\n",
       "</style>\n",
       "<table border=\"1\" class=\"dataframe\">\n",
       "  <thead>\n",
       "    <tr style=\"text-align: right;\">\n",
       "      <th></th>\n",
       "      <th>S1</th>\n",
       "      <th>C1</th>\n",
       "      <th>S2</th>\n",
       "      <th>C2</th>\n",
       "      <th>S3</th>\n",
       "      <th>C3</th>\n",
       "      <th>S4</th>\n",
       "      <th>C4</th>\n",
       "      <th>S5</th>\n",
       "      <th>C5</th>\n",
       "      <th>CLASS</th>\n",
       "    </tr>\n",
       "  </thead>\n",
       "  <tbody>\n",
       "    <tr>\n",
       "      <th>0</th>\n",
       "      <td>2</td>\n",
       "      <td>11</td>\n",
       "      <td>2</td>\n",
       "      <td>13</td>\n",
       "      <td>2</td>\n",
       "      <td>10</td>\n",
       "      <td>2</td>\n",
       "      <td>12</td>\n",
       "      <td>2</td>\n",
       "      <td>1</td>\n",
       "      <td>9</td>\n",
       "    </tr>\n",
       "    <tr>\n",
       "      <th>1</th>\n",
       "      <td>3</td>\n",
       "      <td>12</td>\n",
       "      <td>3</td>\n",
       "      <td>11</td>\n",
       "      <td>3</td>\n",
       "      <td>13</td>\n",
       "      <td>3</td>\n",
       "      <td>10</td>\n",
       "      <td>3</td>\n",
       "      <td>1</td>\n",
       "      <td>9</td>\n",
       "    </tr>\n",
       "    <tr>\n",
       "      <th>2</th>\n",
       "      <td>4</td>\n",
       "      <td>10</td>\n",
       "      <td>4</td>\n",
       "      <td>11</td>\n",
       "      <td>4</td>\n",
       "      <td>1</td>\n",
       "      <td>4</td>\n",
       "      <td>13</td>\n",
       "      <td>4</td>\n",
       "      <td>12</td>\n",
       "      <td>9</td>\n",
       "    </tr>\n",
       "    <tr>\n",
       "      <th>3</th>\n",
       "      <td>4</td>\n",
       "      <td>1</td>\n",
       "      <td>4</td>\n",
       "      <td>13</td>\n",
       "      <td>4</td>\n",
       "      <td>12</td>\n",
       "      <td>4</td>\n",
       "      <td>11</td>\n",
       "      <td>4</td>\n",
       "      <td>10</td>\n",
       "      <td>9</td>\n",
       "    </tr>\n",
       "    <tr>\n",
       "      <th>4</th>\n",
       "      <td>1</td>\n",
       "      <td>2</td>\n",
       "      <td>1</td>\n",
       "      <td>4</td>\n",
       "      <td>1</td>\n",
       "      <td>5</td>\n",
       "      <td>1</td>\n",
       "      <td>3</td>\n",
       "      <td>1</td>\n",
       "      <td>6</td>\n",
       "      <td>8</td>\n",
       "    </tr>\n",
       "  </tbody>\n",
       "</table>\n",
       "</div>"
      ],
      "text/plain": [
       "   S1  C1  S2  C2  S3  C3  S4  C4  S5  C5  CLASS\n",
       "0   2  11   2  13   2  10   2  12   2   1      9\n",
       "1   3  12   3  11   3  13   3  10   3   1      9\n",
       "2   4  10   4  11   4   1   4  13   4  12      9\n",
       "3   4   1   4  13   4  12   4  11   4  10      9\n",
       "4   1   2   1   4   1   5   1   3   1   6      8"
      ]
     },
     "execution_count": 30,
     "metadata": {},
     "output_type": "execute_result"
    }
   ],
   "source": [
    "df.head(5)"
   ]
  },
  {
   "cell_type": "code",
   "execution_count": 31,
   "metadata": {},
   "outputs": [
    {
     "data": {
      "text/html": [
       "<div>\n",
       "<style scoped>\n",
       "    .dataframe tbody tr th:only-of-type {\n",
       "        vertical-align: middle;\n",
       "    }\n",
       "\n",
       "    .dataframe tbody tr th {\n",
       "        vertical-align: top;\n",
       "    }\n",
       "\n",
       "    .dataframe thead th {\n",
       "        text-align: right;\n",
       "    }\n",
       "</style>\n",
       "<table border=\"1\" class=\"dataframe\">\n",
       "  <thead>\n",
       "    <tr style=\"text-align: right;\">\n",
       "      <th></th>\n",
       "      <th>S1</th>\n",
       "      <th>C1</th>\n",
       "      <th>S2</th>\n",
       "      <th>C2</th>\n",
       "      <th>S3</th>\n",
       "      <th>C3</th>\n",
       "      <th>S4</th>\n",
       "      <th>C4</th>\n",
       "      <th>S5</th>\n",
       "      <th>C5</th>\n",
       "      <th>CLASS</th>\n",
       "    </tr>\n",
       "  </thead>\n",
       "  <tbody>\n",
       "    <tr>\n",
       "      <th>0</th>\n",
       "      <td>3</td>\n",
       "      <td>12</td>\n",
       "      <td>3</td>\n",
       "      <td>2</td>\n",
       "      <td>3</td>\n",
       "      <td>11</td>\n",
       "      <td>4</td>\n",
       "      <td>5</td>\n",
       "      <td>2</td>\n",
       "      <td>5</td>\n",
       "      <td>1</td>\n",
       "    </tr>\n",
       "    <tr>\n",
       "      <th>1</th>\n",
       "      <td>1</td>\n",
       "      <td>9</td>\n",
       "      <td>4</td>\n",
       "      <td>6</td>\n",
       "      <td>1</td>\n",
       "      <td>4</td>\n",
       "      <td>3</td>\n",
       "      <td>2</td>\n",
       "      <td>3</td>\n",
       "      <td>9</td>\n",
       "      <td>1</td>\n",
       "    </tr>\n",
       "    <tr>\n",
       "      <th>2</th>\n",
       "      <td>1</td>\n",
       "      <td>4</td>\n",
       "      <td>3</td>\n",
       "      <td>13</td>\n",
       "      <td>2</td>\n",
       "      <td>13</td>\n",
       "      <td>2</td>\n",
       "      <td>1</td>\n",
       "      <td>3</td>\n",
       "      <td>6</td>\n",
       "      <td>1</td>\n",
       "    </tr>\n",
       "    <tr>\n",
       "      <th>3</th>\n",
       "      <td>3</td>\n",
       "      <td>10</td>\n",
       "      <td>2</td>\n",
       "      <td>7</td>\n",
       "      <td>1</td>\n",
       "      <td>2</td>\n",
       "      <td>2</td>\n",
       "      <td>11</td>\n",
       "      <td>4</td>\n",
       "      <td>9</td>\n",
       "      <td>0</td>\n",
       "    </tr>\n",
       "    <tr>\n",
       "      <th>4</th>\n",
       "      <td>1</td>\n",
       "      <td>3</td>\n",
       "      <td>4</td>\n",
       "      <td>5</td>\n",
       "      <td>3</td>\n",
       "      <td>4</td>\n",
       "      <td>1</td>\n",
       "      <td>12</td>\n",
       "      <td>4</td>\n",
       "      <td>6</td>\n",
       "      <td>0</td>\n",
       "    </tr>\n",
       "  </tbody>\n",
       "</table>\n",
       "</div>"
      ],
      "text/plain": [
       "   S1  C1  S2  C2  S3  C3  S4  C4  S5  C5  CLASS\n",
       "0   3  12   3   2   3  11   4   5   2   5      1\n",
       "1   1   9   4   6   1   4   3   2   3   9      1\n",
       "2   1   4   3  13   2  13   2   1   3   6      1\n",
       "3   3  10   2   7   1   2   2  11   4   9      0\n",
       "4   1   3   4   5   3   4   1  12   4   6      0"
      ]
     },
     "execution_count": 31,
     "metadata": {},
     "output_type": "execute_result"
    }
   ],
   "source": [
    "df1.head(5)"
   ]
  },
  {
   "cell_type": "code",
   "execution_count": 32,
   "metadata": {},
   "outputs": [
    {
     "name": "stdout",
     "output_type": "stream",
     "text": [
      "Training dataset shape:  (999999, 10) \n",
      "Testing dataset shape:  (25009, 10)\n"
     ]
    }
   ],
   "source": [
    "\n",
    "#Setting the train and test data\n",
    "from sklearn.model_selection import train_test_split\n",

    "X_train = df1.drop(['CLASS'], axis = 1)\n",
    "y_train = df1.CLASS\n",
    "\n",
    "X_test = df.drop(['CLASS'], axis = 1)\n",
    "y_test = df.CLASS\n",
    "\n",
    "print(\"Training dataset shape: \", X_train.shape, \"\\nTesting dataset shape: \", X_test.shape)"
   ]
  },
  {
   "cell_type": "code",
   "execution_count": null,
   "metadata": {},
   "outputs": [],
   "source": []
  },
  {
   "cell_type": "code",
   "execution_count": null,
   "metadata": {},
   "outputs": [],
   "source": []
  },
  {
   "cell_type": "code",
   "execution_count": 49,
   "metadata": {},
   "outputs": [
    {
     "name": "stderr",
     "output_type": "stream",
     "text": [
      "/home/ansh/.local/lib/python3.6/site-packages/sklearn/linear_model/stochastic_gradient.py:166: FutureWarning: max_iter and tol parameters have been added in SGDClassifier in 0.19. If both are left unset, they default to max_iter=5 and tol=None. If tol is not None, max_iter defaults to max_iter=1000. From 0.21, default max_iter will be 1000, and default tol will be 1e-3.\n",
      "  FutureWarning)\n"
     ]
    },
    {
     "name": "stdout",
     "output_type": "stream",
     "text": [
      "Training time for SGDClassifier:  8.941  seconds\n",
      "Prediction time for SGDClassifier:  0.05  seconds\n"
     ]
    }
   ],
   "source": [
    "#SGDClassifier\n",
    "from sklearn.linear_model import SGDClassifier\n",
    "SGD = SGDClassifier()\n",
    "\n",
    "#Calculating fitting time\n",
    "startTime = time()\n",
    "SGD.fit(X_train, y_train)\n",
    "print(\"Training time for SGDClassifier: \", round(time()-startTime, 3), \" seconds\")\n",
    "\n",
    "#Making predictions and calculating the prediction time \n",
    "startTime = time()\n",
    "predictions = SGD.predict(X_test)\n",
    "print(\"Prediction time for SGDClassifier: \", round(time()-startTime, 3), \" seconds\")"
   ]
  },
  {
   "cell_type": "code",
   "execution_count": 51,
   "metadata": {},
   "outputs": [
    {
     "name": "stdout",
     "output_type": "stream",
     "text": [
      "Cross-validation score: \n"
     ]
    },
    {
     "name": "stderr",
     "output_type": "stream",
     "text": [
      "/home/ansh/.local/lib/python3.6/site-packages/sklearn/model_selection/_split.py:2053: FutureWarning: You should specify a value for 'cv' instead of relying on the default value. The default value will change from 3 to 5 in version 0.22.\n",
      "  warnings.warn(CV_WARNING, FutureWarning)\n",
      "/home/ansh/.local/lib/python3.6/site-packages/sklearn/linear_model/stochastic_gradient.py:166: FutureWarning: max_iter and tol parameters have been added in SGDClassifier in 0.19. If both are left unset, they default to max_iter=5 and tol=None. If tol is not None, max_iter defaults to max_iter=1000. From 0.21, default max_iter will be 1000, and default tol will be 1e-3.\n",
      "  FutureWarning)\n",
      "/home/ansh/.local/lib/python3.6/site-packages/sklearn/linear_model/stochastic_gradient.py:166: FutureWarning: max_iter and tol parameters have been added in SGDClassifier in 0.19. If both are left unset, they default to max_iter=5 and tol=None. If tol is not None, max_iter defaults to max_iter=1000. From 0.21, default max_iter will be 1000, and default tol will be 1e-3.\n",
      "  FutureWarning)\n",
      "/home/ansh/.local/lib/python3.6/site-packages/sklearn/linear_model/stochastic_gradient.py:166: FutureWarning: max_iter and tol parameters have been added in SGDClassifier in 0.19. If both are left unset, they default to max_iter=5 and tol=None. If tol is not None, max_iter defaults to max_iter=1000. From 0.21, default max_iter will be 1000, and default tol will be 1e-3.\n",
      "  FutureWarning)\n"
     ]
    },
    {
     "name": "stdout",
     "output_type": "stream",
     "text": [
      "[0.92369555 0.92370131 0.92370732]\n"
     ]
    },
    {
     "name": "stderr",
     "output_type": "stream",
     "text": [
      "/home/ansh/.local/lib/python3.6/site-packages/sklearn/linear_model/stochastic_gradient.py:166: FutureWarning: max_iter and tol parameters have been added in SGDClassifier in 0.19. If both are left unset, they default to max_iter=5 and tol=None. If tol is not None, max_iter defaults to max_iter=1000. From 0.21, default max_iter will be 1000, and default tol will be 1e-3.\n",
      "  FutureWarning)\n",
      "/home/ansh/.local/lib/python3.6/site-packages/sklearn/linear_model/stochastic_gradient.py:166: FutureWarning: max_iter and tol parameters have been added in SGDClassifier in 0.19. If both are left unset, they default to max_iter=5 and tol=None. If tol is not None, max_iter defaults to max_iter=1000. From 0.21, default max_iter will be 1000, and default tol will be 1e-3.\n",
      "  FutureWarning)\n",
      "/home/ansh/.local/lib/python3.6/site-packages/sklearn/linear_model/stochastic_gradient.py:166: FutureWarning: max_iter and tol parameters have been added in SGDClassifier in 0.19. If both are left unset, they default to max_iter=5 and tol=None. If tol is not None, max_iter defaults to max_iter=1000. From 0.21, default max_iter will be 1000, and default tol will be 1e-3.\n",
      "  FutureWarning)\n"
     ]
    },
    {
     "name": "stdout",
     "output_type": "stream",
     "text": [
      "Confusion matrix: \n",
      "[[462345      0      0      0      0      0      0      0      0      0]\n",
      " [     0 389776      0      0      0      0      0      0      0      0]\n",
      " [     0  43914      0      0      0      0      0      0      0      0]\n",
      " [     0  19506      0      0      0      0      0      0      0      0]\n",
      " [     0   3570      0      0      0      0      0      0      0      0]\n",
      " [     0   1846      0      0      0      0      0      0      0      0]\n",
      " [     0   1311      0      0      0      0      0      0      0      0]\n",
      " [     0    215      0      0      0      0      0      0      0      0]\n",
      " [     0     17      0      0      0      0      0      0      0      0]\n",
      " [     0      7      0      0      0      0      0      0      0      0]]\n"
     ]
    },
    {
     "data": {
      "image/png": "[encoded data removed]",
      "text/plain": [
       "<Figure size 360x216 with 2 Axes>"
      ]
     },
     "metadata": {
      "needs_background": "light"
     },
     "output_type": "display_data"
    },
    {
     "name": "stdout",
     "output_type": "stream",
     "text": [
      "Precision score: \n",
      "0.9237013919677575\n",
      "Recall score: \n",
      "0.9237013919677575\n",
      "F1 score: \n",
      "0.9237013919677575\n"
     ]
    }
   ],
   "source": [
    "#Cross-validation score\n",
    "print(\"Cross-validation score: \")\n",
    "print(cross_val_score(SGD, X_train, y_train, scoring=\"accuracy\"))\n",
    "\n",
    "#Cross_validation predictions\n",
    "predictions = cross_val_predict(SGD, X_train, y_train, cv=3)\n",
    "\n",
    "#Confusion matrix\n",
    "print(\"Confusion matrix: \")\n",
    "print(confusion_matrix(y_train, predictions))\n",
    "\n",
    "#A better figure representation of the confusion matrix\n",
    "print_confusion_matrix(confusion_matrix(y_train, predictions), classNames)\n",
    "\n",
    "#Precision\n",
    "print(\"Precision score: \")\n",
    "print(precision_score(y_train, predictions, average='micro'))\n",
    "\n",
    "#Recall score\n",
    "print(\"Recall score: \")\n",
    "print(recall_score(y_train, predictions, average='micro')) \n",
    "\n",
    "#F1 score\n",
    "print(\"F1 score: \")\n",
    "print(f1_score(y_train, predictions, average='micro'))"
   ]
  },
  {
   "cell_type": "code",
   "execution_count": 106,
   "metadata": {},
   "outputs": [
    {
     "name": "stdout",
     "output_type": "stream",
     "text": [
      "Starting the estimator... 9\n",
      "The first layer.\n",
      "The hidden layer.\n",
      "The output layer.\n",
      "Epoch 1/5\n",
      "922507/922507 [==============================] - 33s 36us/step - loss: 0.0921 - acc: 0.9595\n",
      "Epoch 2/5\n",
      "922507/922507 [==============================] - 30s 32us/step - loss: 0.0113 - acc: 0.9958\n",
      "Epoch 3/5\n",
      "922507/922507 [==============================] - 29s 31us/step - loss: 0.0068 - acc: 0.9976\n",
      "Epoch 4/5\n",
      "922507/922507 [==============================] - 28s 31us/step - loss: 0.0051 - acc: 0.9982\n",
      "Epoch 5/5\n",
      "922507/922507 [==============================] - 28s 31us/step - loss: 0.0045 - acc: 0.9985\n",
      "Time for creation and fitting:  148.989  seconds\n"
     ]
    }
   ],
   "source": [
    "from tensorflow.python.keras.layers import Dense,Dropout\n",
    "from tensorflow.python.keras.models import Sequential\n",
    "\n",
    "def createModel():\n",
    "    model = Sequential()\n",
    "    model.add(Dense(10, input_dim=11, kernel_initializer='normal', activation='relu'))\n",
    "    print(\"The first layer.\")\n",
    "    \n",
    "    #Hidden layer\n",
    "    model.add(Dense(3, kernel_initializer='normal', activation='relu'))\n",
    "    print(\"The hidden layer.\")\n",
    "    \n",
    "    #Output layer\n",
    "    model.add(Dense(10, kernel_initializer='normal', activation='softmax'))\n",
    "    print(\"The output layer.\")\n",
    "    \n",
    "    # Compiling model\n",
    "    model.compile(optimizer='rmsprop', loss='sparse_categorical_crossentropy', metrics=['accuracy'])\n",
    "    \n",
    "    return model\n",
    "\n",
    "from tensorflow.python.keras.wrappers.scikit_learn import KerasClassifier\n",
    "print(\"Starting the estimator... 9\")\n",
    "\n",
    "#Creation and fitting time measurement\n",
    "startTime = time()\n",
    "kerasModel = createModel()\n",
    "history = kerasModel.fit(X_train, y_train, epochs=5, batch_size=50, verbose=1)\n",
    "print(\"Time for creation and fitting: \", round(time() - startTime, 3), \" seconds\")"
   ]
  },
  {
   "cell_type": "code",
   "execution_count": null,
   "metadata": {},
   "outputs": [],
   "source": []
  },
  {
   "cell_type": "code",
   "execution_count": null,
   "metadata": {
    "collapsed": true
   },
   "outputs": [],
   "source": []
  }
 ],
 "metadata": {
  "kernelspec": {
   "display_name": "Python 3 (ipykernel)",
   "language": "python",
   "name": "python3"
  },
  "language_info": {
   "codemirror_mode": {
    "name": "ipython",
    "version": 3
   },
   "file_extension": ".py",
   "mimetype": "text/x-python",
   "name": "python",
   "nbconvert_exporter": "python",
   "pygments_lexer": "ipython3",
   "version": "3.9.13"
  }
 },
 "nbformat": 4,
 "nbformat_minor": 2
}
